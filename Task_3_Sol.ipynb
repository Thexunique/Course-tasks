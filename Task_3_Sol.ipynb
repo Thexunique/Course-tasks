{
  "nbformat": 4,
  "nbformat_minor": 0,
  "metadata": {
    "colab": {
      "provenance": []
    },
    "kernelspec": {
      "name": "python3",
      "display_name": "Python 3"
    },
    "language_info": {
      "name": "python"
    }
  },
  "cells": [
    {
      "cell_type": "markdown",
      "source": [
        "Task 1: Create a Contact Book"
      ],
      "metadata": {
        "id": "rzsORIBre93N"
      }
    },
    {
      "cell_type": "code",
      "execution_count": 1,
      "metadata": {
        "colab": {
          "base_uri": "https://localhost:8080/"
        },
        "id": "UBCElzUQe6VH",
        "outputId": "a827b72c-7aae-4856-e5bc-e0cad275bfca"
      },
      "outputs": [
        {
          "output_type": "stream",
          "name": "stdout",
          "text": [
            "Contacts:\n",
            "Ahmed\n",
            "Mohamed\n",
            "Sara\n",
            "\n",
            "Enter a name to search for their phone number: Ahmed\n",
            "Ahmed's phone number is: 0101234567\n"
          ]
        }
      ],
      "source": [
        "contacts = {\n",
        "    \"Ahmed\": \"0101234567\",\n",
        "    \"Mohamed\": \"0119876543\",\n",
        "    \"Sara\": \"0125693569\"\n",
        "}\n",
        "\n",
        "print(\"Contacts:\")\n",
        "for name in contacts.keys():\n",
        "    print(name)\n",
        "\n",
        "search_name = input(\"\\nEnter a name to search for their phone number: \").strip()\n",
        "\n",
        "if search_name in contacts:\n",
        "    print(f\"{search_name}'s phone number is: {contacts[search_name]}\")\n",
        "else:\n",
        "    print(f\"Contact '{search_name}' not found.\")"
      ]
    },
    {
      "cell_type": "markdown",
      "source": [
        "Task 2: Student Grades"
      ],
      "metadata": {
        "id": "2MA1zKufheSa"
      }
    },
    {
      "cell_type": "code",
      "source": [
        "students = [\n",
        "    {\"name\": \"Mahmoud\", \"grades\": [85, 90, 78]},\n",
        "    {\"name\": \"Omar\", \"grades\": [92, 88, 95]},\n",
        "    {\"name\": \"Nora\", \"grades\": [70, 75, 80]}\n",
        "]\n",
        "\n",
        "print(\"\\nStudent Averages:\")\n",
        "for student in students:\n",
        "    average = sum(student[\"grades\"]) / len(student[\"grades\"])\n",
        "    print(f\"{student['name']} - Average Grade: {average:.2f}\")\n"
      ],
      "metadata": {
        "colab": {
          "base_uri": "https://localhost:8080/"
        },
        "id": "LC6nVCmghhtE",
        "outputId": "f9e4c171-80eb-4d2e-bbee-56bf67d55aa5"
      },
      "execution_count": 2,
      "outputs": [
        {
          "output_type": "stream",
          "name": "stdout",
          "text": [
            "\n",
            "Student Averages:\n",
            "Mahmoud - Average Grade: 84.33\n",
            "Omar - Average Grade: 91.67\n",
            "Nora - Average Grade: 75.00\n"
          ]
        }
      ]
    }
  ]
}