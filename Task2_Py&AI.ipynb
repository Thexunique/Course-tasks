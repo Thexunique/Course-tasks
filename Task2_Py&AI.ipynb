{
  "nbformat": 4,
  "nbformat_minor": 0,
  "metadata": {
    "colab": {
      "provenance": []
    },
    "kernelspec": {
      "name": "python3",
      "display_name": "Python 3"
    },
    "language_info": {
      "name": "python"
    }
  },
  "cells": [
    {
      "cell_type": "markdown",
      "source": [
        "Task1"
      ],
      "metadata": {
        "id": "Qm2jvtMZMmWP"
      }
    },
    {
      "cell_type": "code",
      "source": [
        "temperature = input(\"Please enter the current temperature in Celsius: \")\n",
        "\n",
        "# Convert string to a float**عشان تعرف تستخدمه لان الدخل من المستخدم بيبقى ديمااسترنج**\n",
        "current_temperature_celsius = float(temperature)\n",
        "\n",
        "if current_temperature_celsius >= 30:\n",
        "    print(\"It's a hot day. Stay hydrated!\")\n",
        "elif 20 <= current_temperature_celsius <= 29:\n",
        "    print(\"It's a warm day. Enjoy the weather!\")\n",
        "elif 10 <= current_temperature_celsius <= 19:\n",
        "    print(\"It's a cool day. Wear a jacket!\")\n",
        "else:\n",
        "    print(\"It's a cold day. Stay warm!\")\n"
      ],
      "metadata": {
        "colab": {
          "base_uri": "https://localhost:8080/"
        },
        "id": "4Ef_-Uu6MoIw",
        "outputId": "b00f7368-74c5-4dce-d002-bef1fc92b872"
      },
      "execution_count": 4,
      "outputs": [
        {
          "output_type": "stream",
          "name": "stdout",
          "text": [
            "Please enter the current temperature in Celsius: 25\n",
            "It's a warm day. Enjoy the weather!\n"
          ]
        }
      ]
    },
    {
      "cell_type": "markdown",
      "source": [
        "Task 2"
      ],
      "metadata": {
        "id": "YUbGz58nNPmG"
      }
    },
    {
      "cell_type": "code",
      "source": [
        "number_list = list(range(1, 21))\n",
        "\n",
        "divisible_by_three_list = []\n",
        "\n",
        "for number in number_list:\n",
        "    if number % 3 == 0:\n",
        "        divisible_by_three_list.append(number)\n",
        "\n",
        "print(\"Numbers divisible by 3:\", divisible_by_three_list)"
      ],
      "metadata": {
        "colab": {
          "base_uri": "https://localhost:8080/"
        },
        "id": "NpLTS4atNR2i",
        "outputId": "5edcd4ba-f1b4-4dbb-c2a6-fb6a7c0bd535"
      },
      "execution_count": 3,
      "outputs": [
        {
          "output_type": "stream",
          "name": "stdout",
          "text": [
            "Numbers divisible by 3: [3, 6, 9, 12, 15, 18]\n"
          ]
        }
      ]
    }
  ]
}