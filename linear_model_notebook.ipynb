{
 "cells": [
  {
   "cell_type": "markdown",
   "metadata": {},
   "source": [
    "# Linear Regression for Ice Cream Sales\n",
    "\n",
    "This notebook demonstrates a simple linear regression model to predict ice cream sales based on temperature."
   ]
  },
  {
   "cell_type": "markdown",
   "metadata": {},
   "source": [
    "## 1. Import Libraries\n",
    "\n",
    "First, we import the necessary Python libraries for data manipulation, model training, and evaluation."
   ]
  },
  {
   "cell_type": "code",
   "execution_count": null,
   "metadata": {},
   "outputs": [],
   "source": [
    "# Import necessary libraries\n",
    "import pandas as pd\n",
    "from sklearn.model_selection import train_test_split\n",
    "from sklearn.linear_model import LinearRegression\n",
    "from sklearn.metrics import mean_squared_error, r2_score"
   ]
  },
  {
   "cell_type": "markdown",
   "metadata": {},
   "source": [
    "## 2. Load Dataset\n",
    "\n",
    "We load the dataset from a CSV file named `temperature_data.csv`. This file is expected to be in the same directory as the notebook. It contains two columns: 'Temperature_Celsius' and 'Ice_Cream_Sales'."
   ]
  },
  {
   "cell_type": "code",
   "execution_count": null,
   "metadata": {},
   "outputs": [],
   "source": [
    "# Load the dataset\n",
    "# The CSV file 'temperature_data.csv' is expected to be in the same directory as this script.\n",
    "try:\n",
    "    data = pd.read_csv('temperature_data.csv')\n",
    "    print(\"Dataset loaded successfully.\")\n",
    "    # Display the first few rows of the dataframe to verify\n",
    "    # data.head()\n",
    "except FileNotFoundError:\n",
    "    # If the file is not found, print an error and raise an exception.\n",
    "    # This will stop notebook execution if the file is missing.\n",
    "    print(\"Error: 'temperature_data.csv' not found. Make sure the file is in the current directory.\")\n",
    "    raise FileNotFoundError(\"Error: 'temperature_data.csv' not found. Please ensure the file exists in the same directory as the notebook.\")"
   ]
  },
  {
   "cell_type": "markdown",
   "metadata": {},
   "source": [
    "## 3. Define Features and Target\n",
    "\n",
    "We define our feature (X) and target (y) variables. \n",
    "- 'Temperature_Celsius' is the independent variable (feature) we'll use to predict ice cream sales.\n",
    "- 'Ice_Cream_Sales' is the dependent variable (target) we want to predict."
   ]
  },
  {
   "cell_type": "code",
   "execution_count": null,
   "metadata": {},
   "outputs": [],
   "source": [
    "# Define features (X) and target (y)\n",
    "# 'Temperature_Celsius' is the feature we'll use to predict 'Ice_Cream_Sales'.\n",
    "X = data[['Temperature_Celsius']]\n",
    "y = data['Ice_Cream_Sales']\n",
    "\n",
    "# print(\"Features (X):\")\n",
    "# print(X.head())\n",
    "# print(\"\\nTarget (y):\")\n",
    "# print(y.head())"
   ]
  },
  {
   "cell_type": "markdown",
   "metadata": {},
   "source": [
    "## 4. Split Data into Training and Testing Sets\n",
    "\n",
    "To evaluate our model's performance on unseen data, we split the dataset into two parts:\n",
    "- A training set (typically 80% of the data) used to train the model.\n",
    "- A testing set (typically 20% of the data) used to evaluate the trained model.\n",
    "\n",
    "`random_state` is set to ensure that the split is the same every time we run the code, making our results reproducible."
   ]
  },
  {
   "cell_type": "code",
   "execution_count": null,
   "metadata": {},
   "outputs": [],
   "source": [
    "# Split the data into training and testing sets\n",
    "# We use 80% of the data for training and 20% for testing.\n",
    "# random_state is set for reproducibility of the split.\n",
    "X_train, X_test, y_train, y_test = train_test_split(X, y, test_size=0.2, random_state=42)\n",
    "\n",
    "# print(f\"Training set size: {X_train.shape[0]} samples\")\n",
    "# print(f\"Testing set size: {X_test.shape[0]} samples\")"
   ]
  },
  {
   "cell_type": "markdown",
   "metadata": {},
   "source": [
    "## 5. Initialize and Train the Model\n",
    "\n",
    "We initialize a `LinearRegression` model. This model will try to find a linear relationship between temperature and ice cream sales.\n",
    "Then, we train the model using our training data (`X_train`, `y_train`). The model learns the best-fitting line that describes the relationship between the features and the target variable."
   ]
  },
  {
   "cell_type": "code",
   "execution_count": null,
   "metadata": {},
   "outputs": [],
   "source": [
    "# Initialize the Linear Regression model\n",
    "model = LinearRegression()\n",
    "\n",
    "# Train the model using the training data\n",
    "# The model learns the relationship between temperature and ice cream sales from the training data.\n",
    "model.fit(X_train, y_train)\n",
    "\n",
    "print(\"Linear Regression model trained successfully.\")\n",
    "# To see the learned parameters:\n",
    "# print(f\"Coefficient (slope): {model.coef_[0]}\")\n",
    "# print(f\"Intercept: {model.intercept_}\")"
   ]
  },
  {
   "cell_type": "markdown",
   "metadata": {},
   "source": [
    "## 6. Make Predictions\n",
    "\n",
    "Once the model is trained, we can use it to make predictions on new, unseen data. Here, we use the test set (`X_test`) to see how well our model generalizes."
   ]
  },
  {
   "cell_type": "code",
   "execution_count": null,
   "metadata": {},
   "outputs": [],
   "source": [
    "# Make predictions on the test data\n",
    "# The model uses the learned relationship to predict ice cream sales for the test set temperatures.\n",
    "y_pred = model.predict(X_test)\n",
    "\n",
    "# print(\"Predictions for the test set:\")\n",
    "# print(y_pred)"
   ]
  },
  {
   "cell_type": "markdown",
   "metadata": {},
   "source": [
    "## 7. Evaluate the Model\n",
    "\n",
    "We evaluate the model's performance using two common metrics for regression tasks:\n",
    "- **Mean Squared Error (MSE)**: Measures the average of the squares of the errors (the difference between actual and predicted values). A lower MSE indicates a better fit.\n",
    "- **R-squared (R²)**: Represents the proportion of the variance in the dependent variable (ice cream sales) that is predictable from the independent variable (temperature). It ranges from 0 to 1, where 1 indicates a perfect fit and 0 indicates that the model does not explain any of the variability."
   ]
  },
  {
   "cell_type": "code",
   "execution_count": null,
   "metadata": {},
   "outputs": [],
   "source": [
    "# Evaluate the model\n",
    "# Mean Squared Error (MSE) measures the average squared difference between actual and predicted values.\n",
    "# Lower MSE indicates a better fit.\n",
    "mse = mean_squared_error(y_test, y_pred)\n",
    "\n",
    "# R-squared (R²) is the proportion of the variance in the dependent variable that is predictable from the independent variable.\n",
    "# It ranges from 0 to 1, with 1 indicating a perfect fit.\n",
    "r2 = r2_score(y_test, y_pred)\n",
    "\n",
    "print(f\"Mean Squared Error (MSE): {mse:.2f}\")\n",
    "print(f\"R-squared (R²): {r2:.2f}\")"
   ]
  },
  {
   "cell_type": "markdown",
   "metadata": {},
   "source": [
    "## 8. Model Demonstration\n",
    "\n",
    "This section shows how to use the trained model to predict ice cream sales for a new, specific temperature value (e.g., 25 degrees Celsius)."
   ]
  },
  {
   "cell_type": "code",
   "execution_count": null,
   "metadata": {},
   "outputs": [],
   "source": [
    "# Demonstrate the model with a sample temperature\n",
    "# This section shows how to use the trained model to predict sales for a new temperature value.\n",
    "sample_temperature = [[25]]  # Temperature in Celsius, needs to be a 2D array for the model\n",
    "predicted_sales_for_sample = model.predict(sample_temperature)\n",
    "\n",
    "print(f\"\\n--- Model Demonstration ---\")\n",
    "print(f\"Sample Temperature (Celsius): {sample_temperature[0][0]}\")\n",
    "print(f\"Predicted Ice Cream Sales: {predicted_sales_for_sample[0]:.2f}\")"
   ]
  }
 ],
 "metadata": {
  "kernelspec": {
   "display_name": "Python 3",
   "language": "python",
   "name": "python3"
  },
  "language_info": {
   "codemirror_mode": {
    "name": "ipython",
    "version": 3
   },
   "file_extension": ".py",
   "mimetype": "text/x-python",
   "name": "python",
   "nbconvert_exporter": "python",
   "pygments_lexer": "ipython3",
   "version": "3.10.12"
  }
 },
 "nbformat": 4,
 "nbformat_minor": 5
}
