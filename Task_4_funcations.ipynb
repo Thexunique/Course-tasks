{
  "nbformat": 4,
  "nbformat_minor": 0,
  "metadata": {
    "colab": {
      "provenance": []
    },
    "kernelspec": {
      "name": "python3",
      "display_name": "Python 3"
    },
    "language_info": {
      "name": "python"
    }
  },
  "cells": [
    {
      "cell_type": "markdown",
      "source": [
        "Task 1:"
      ],
      "metadata": {
        "id": "_cx5KUWhk51X"
      }
    },
    {
      "cell_type": "code",
      "execution_count": 7,
      "metadata": {
        "colab": {
          "base_uri": "https://localhost:8080/"
        },
        "id": "g9SdpEAEksOq",
        "outputId": "eeb4a6dd-c50c-4ed6-a5db-99b43161cc15"
      },
      "outputs": [
        {
          "output_type": "stream",
          "name": "stdout",
          "text": [
            "Enter a number to check if it's prime: 11\n",
            "11 is a prime number.\n"
          ]
        }
      ],
      "source": [
        "def is_prime(n):\n",
        "    if n <= 1:\n",
        "        return False\n",
        "    for i in range(2, int(n**0.5) + 1):\n",
        "        if n % i == 0:\n",
        "            return False\n",
        "    return True\n",
        "\n",
        "\n",
        "number = int(input(\"Enter a number to check if it's prime: \"))\n",
        "if is_prime(number):\n",
        "    print(f\"{number} is a prime number.\")\n",
        "else:\n",
        "    print(f\"{number} is not a prime number.\")\n"
      ]
    },
    {
      "cell_type": "markdown",
      "source": [
        "Task 2 :"
      ],
      "metadata": {
        "id": "vBifBvHZmXwz"
      }
    },
    {
      "cell_type": "code",
      "source": [
        "def calculator(a, b, operation):\n",
        "    if operation == 1:\n",
        "        return a + b\n",
        "    elif operation == 2:\n",
        "        return a - b\n",
        "    elif operation == 3:\n",
        "        return a * b\n",
        "    elif operation == 4:\n",
        "        if b == 0:\n",
        "            return \"Error: Cannot divide by zero.\"\n",
        "        return a / b\n",
        "    else:\n",
        "        return \"Error: Invalid choice.\"\n",
        "\n",
        "print(\"==> Calculator <==\")\n",
        "print(\"Select Operation:\")\n",
        "print(\"1. Add\")\n",
        "print(\"2. Subtract\")\n",
        "print(\"3. Multiply\")\n",
        "print(\"4. Divide\")\n",
        "\n",
        "try:\n",
        "    choice = int(input(\"Enter the number of the operation (1-4): \"))\n",
        "    a = float(input(\"Enter the first number: \"))\n",
        "    b = float(input(\"Enter the second number: \"))\n",
        "\n",
        "    result = calculator(a, b, choice)\n",
        "    print(\"Result:\", result)\n",
        "\n",
        "except ValueError:\n",
        "    print(\"Error: Please enter valid numbers.\")\n"
      ],
      "metadata": {
        "colab": {
          "base_uri": "https://localhost:8080/"
        },
        "id": "4f7AXVNZmJpQ",
        "outputId": "75799ddc-27d6-4c50-abd9-ac87cd27543a"
      },
      "execution_count": 8,
      "outputs": [
        {
          "output_type": "stream",
          "name": "stdout",
          "text": [
            "==> Calculator <==\n",
            "Select Operation:\n",
            "1. Add\n",
            "2. Subtract\n",
            "3. Multiply\n",
            "4. Divide\n",
            "Enter the number of the operation (1-4): 3\n",
            "Enter the first number: 55\n",
            "Enter the second number: 12165\n",
            "Result: 669075.0\n"
          ]
        }
      ]
    }
  ]
}