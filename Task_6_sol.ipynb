{
  "nbformat": 4,
  "nbformat_minor": 0,
  "metadata": {
    "colab": {
      "provenance": []
    },
    "kernelspec": {
      "name": "python3",
      "display_name": "Python 3"
    },
    "language_info": {
      "name": "python"
    }
  },
  "cells": [
    {
      "cell_type": "markdown",
      "source": [
        "##Task 6##"
      ],
      "metadata": {
        "id": "bKifjkio8Vt-"
      }
    },
    {
      "cell_type": "markdown",
      "source": [
        "# Section (1)"
      ],
      "metadata": {
        "id": "QRgFWmrU8QOu"
      }
    },
    {
      "cell_type": "code",
      "source": [
        "# NumPy section\n",
        "import numpy as np"
      ],
      "metadata": {
        "id": "_Eu3eo5Y7w-e"
      },
      "execution_count": 28,
      "outputs": []
    },
    {
      "cell_type": "code",
      "source": [
        "# Create arrays\n",
        "A = np.array([10, 20, 30, 40, 50])\n",
        "B = np.array([5, 4, 3, 2, 1])"
      ],
      "metadata": {
        "id": "ux88zx5s72U2"
      },
      "execution_count": 29,
      "outputs": []
    },
    {
      "cell_type": "code",
      "source": [
        "# Perform operations\n",
        "sum_result = A + B\n",
        "diff_result = A - B\n",
        "prod_result = A * B\n",
        "div_result = A / B"
      ],
      "metadata": {
        "id": "jqdFYMpo76o9"
      },
      "execution_count": 30,
      "outputs": []
    },
    {
      "cell_type": "code",
      "source": [
        "# NumPy functions\n",
        "mean_A = A.mean()\n",
        "max_A = A.max()\n",
        "min_A = A.min()\n",
        "dot_product = np.dot(A, B)\n",
        "A_reshaped = A.reshape(5, 1)"
      ],
      "metadata": {
        "id": "eNXEu6BH786-"
      },
      "execution_count": 31,
      "outputs": []
    },
    {
      "cell_type": "code",
      "source": [
        "print(\"A + B:\", sum_result)\n",
        "print(\"A - B:\", diff_result)\n",
        "print(\"A * B:\", prod_result)\n",
        "print(\"A / B:\", div_result)"
      ],
      "metadata": {
        "colab": {
          "base_uri": "https://localhost:8080/"
        },
        "id": "gn78LgJf8BJe",
        "outputId": "db62144a-6d64-4ea2-a88f-2e9c5311a91b"
      },
      "execution_count": 32,
      "outputs": [
        {
          "output_type": "stream",
          "name": "stdout",
          "text": [
            "A + B: [15 24 33 42 51]\n",
            "A - B: [ 5 16 27 38 49]\n",
            "A * B: [50 80 90 80 50]\n",
            "A / B: [ 2.  5. 10. 20. 50.]\n"
          ]
        }
      ]
    },
    {
      "cell_type": "code",
      "source": [
        "print(\"Mean of A:\", mean_A)\n",
        "print(\"Max of A:\", max_A)\n",
        "print(\"Min of A:\", min_A)"
      ],
      "metadata": {
        "colab": {
          "base_uri": "https://localhost:8080/"
        },
        "id": "GGnsi4nq87q-",
        "outputId": "44c5dcc3-fd1e-4d2d-90e5-6aa25928bdc6"
      },
      "execution_count": 33,
      "outputs": [
        {
          "output_type": "stream",
          "name": "stdout",
          "text": [
            "Mean of A: 30.0\n",
            "Max of A: 50\n",
            "Min of A: 10\n"
          ]
        }
      ]
    },
    {
      "cell_type": "code",
      "source": [
        "print(\"Dot product of A and B:\", dot_product)\n",
        "print(\"Reshaped A (5x1):\\n\", A_reshaped)"
      ],
      "metadata": {
        "colab": {
          "base_uri": "https://localhost:8080/"
        },
        "id": "JfXv0Bbm9As2",
        "outputId": "cd7b176c-413d-49da-ce7b-c6746874e7ea"
      },
      "execution_count": 34,
      "outputs": [
        {
          "output_type": "stream",
          "name": "stdout",
          "text": [
            "Dot product of A and B: 350\n",
            "Reshaped A (5x1):\n",
            " [[10]\n",
            " [20]\n",
            " [30]\n",
            " [40]\n",
            " [50]]\n"
          ]
        }
      ]
    },
    {
      "cell_type": "markdown",
      "source": [
        "# Section (2)"
      ],
      "metadata": {
        "id": "t_A-jW8p8K_u"
      }
    },
    {
      "cell_type": "code",
      "source": [
        "# Pandas section\n",
        "import pandas as pd"
      ],
      "metadata": {
        "id": "K3C4jpgY8DsG"
      },
      "execution_count": 35,
      "outputs": []
    },
    {
      "cell_type": "code",
      "source": [
        "# Create DataFrame\n",
        "students_data = pd.DataFrame({\n",
        "    'Name': ['Ahmed', 'Mohamed', 'Sara', 'Mark', 'Aya'],\n",
        "    'Age': [20, 22, 19, 21, 20],\n",
        "    'Grade': ['A', 'B', 'A', 'C', 'B'],\n",
        "    'Marks': [85, 78, 92, 65, 74]\n",
        "})"
      ],
      "metadata": {
        "id": "iEYZ_EeN8emu"
      },
      "execution_count": 36,
      "outputs": []
    },
    {
      "cell_type": "code",
      "source": [
        "# Access data\n",
        "print(\"\\nFirst 3 rows of the DataFrame:\")\n",
        "print(students_data.head(3))"
      ],
      "metadata": {
        "colab": {
          "base_uri": "https://localhost:8080/"
        },
        "id": "_fdT2JsF8g7u",
        "outputId": "dba8b1cf-317c-4550-ad95-5b15ea9ea8d5"
      },
      "execution_count": 37,
      "outputs": [
        {
          "output_type": "stream",
          "name": "stdout",
          "text": [
            "\n",
            "First 3 rows of the DataFrame:\n",
            "      Name  Age Grade  Marks\n",
            "0    Ahmed   20     A     85\n",
            "1  Mohamed   22     B     78\n",
            "2     Sara   19     A     92\n"
          ]
        }
      ]
    },
    {
      "cell_type": "code",
      "source": [
        "print(\"\\nName and Marks columns:\")\n",
        "print(students_data[['Name', 'Marks']])"
      ],
      "metadata": {
        "colab": {
          "base_uri": "https://localhost:8080/"
        },
        "id": "dbxkXY7u8rM2",
        "outputId": "9277b3d2-5a4a-412b-f505-4e32ce1d5e8e"
      },
      "execution_count": 38,
      "outputs": [
        {
          "output_type": "stream",
          "name": "stdout",
          "text": [
            "\n",
            "Name and Marks columns:\n",
            "      Name  Marks\n",
            "0    Ahmed     85\n",
            "1  Mohamed     78\n",
            "2     Sara     92\n",
            "3     Mark     65\n",
            "4      Aya     74\n"
          ]
        }
      ]
    },
    {
      "cell_type": "code",
      "source": [
        "print(\"\\nStudents with Grade 'A':\")\n",
        "print(students_data[students_data['Grade'] == 'A'])"
      ],
      "metadata": {
        "colab": {
          "base_uri": "https://localhost:8080/"
        },
        "id": "DZHKVbPp8s_m",
        "outputId": "7940702b-49c2-41e8-a236-afa4b2fd1904"
      },
      "execution_count": 39,
      "outputs": [
        {
          "output_type": "stream",
          "name": "stdout",
          "text": [
            "\n",
            "Students with Grade 'A':\n",
            "    Name  Age Grade  Marks\n",
            "0  Ahmed   20     A     85\n",
            "2   Sara   19     A     92\n"
          ]
        }
      ]
    }
  ]
}